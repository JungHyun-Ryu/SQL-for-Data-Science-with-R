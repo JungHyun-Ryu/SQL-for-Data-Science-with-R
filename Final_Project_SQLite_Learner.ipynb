{
 "cells": [
  {
   "cell_type": "markdown",
   "metadata": {},
   "source": [
    "<center>\n",
    "    <img src=\"https://cf-courses-data.s3.us.cloud-object-storage.appdomain.cloud/assets/logos/SN_web_lightmode.png\" width=\"300\">\n",
    "</center>\n",
    "\n",
    "# Lab: Jupyter Notebook with Problems for Peer Reviewed Assignment\n",
    "\n",
    "Estimated time needed: 45 minutes\n"
   ]
  },
  {
   "cell_type": "markdown",
   "metadata": {},
   "source": [
    "# Assignment Scenario\n",
    "\n",
    "Congratulations! You have just been hired by a US Venture Capital firm as a data analyst.\n",
    "\n",
    "The company is considering foreign grain markets to help meet its supply chain requirements for its recent investments in the microbrewery and microdistillery industry, which is involved with the production and distribution of craft beers and spirits.\n",
    "\n",
    "Your first task is to provide a high level analysis of crop production in Canada. Your stakeholders want to understand the current and historical performance of certain crop types in terms of supply and price volatility. For now they are mainly interested in a macro-view of Canada's crop farming industry, and how it relates to the relative value of the Canadian and US dollars.\n"
   ]
  },
  {
   "cell_type": "markdown",
   "metadata": {},
   "source": [
    "# Introduction\n",
    "\n",
    "Using this R notebook you will:\n",
    "\n",
    "1.  Understand four datasets\n",
    "2.  Load the datasets into four separate tables in a database\n",
    "3.  Execute SQL queries to answer assignment questions\n",
    "\n",
    "You have already encountered two of these datasets in the previous practice lab. You will be able to reuse much of the work you did there to prepare your database tables for executing SQL queries.\n"
   ]
  },
  {
   "cell_type": "markdown",
   "metadata": {},
   "source": [
    "# Understand the datasets\n",
    "\n",
    "To complete the assignment problems in this notebook you will be using subsetted snapshots of two datasets from Statistics Canada, and one from the Bank of Canada. The links to the prepared datasets are provided in the next section; the interested student can explore the landing pages for the source datasets as follows:\n",
    "\n",
    "1.  <a href=\"https://www150.statcan.gc.ca/t1/tbl1/en/tv.action?utm_medium=Exinfluencer&utm_source=Exinfluencer&utm_content=000026UJ&utm_term=10006555&utm_id=NA-SkillsNetwork-Channel-SkillsNetworkCoursesIBMRP0203ENSkillsNetwork23863830-2021-01-01&pid=3210035901\">Canadian Principal Crops (Data & Metadata)</a>\n",
    "2.  <a href=\"https://www150.statcan.gc.ca/t1/tbl1/en/tv.action?utm_medium=Exinfluencer&utm_source=Exinfluencer&utm_content=000026UJ&utm_term=10006555&utm_id=NA-SkillsNetwork-Channel-SkillsNetworkCoursesIBMRP0203ENSkillsNetwork23863830-2021-01-01&pid=3210007701\">Farm product prices (Data & Metadata)</a>\n",
    "3.  <a href=\"https://www.bankofcanada.ca/rates/exchange/daily-exchange-rates?utm_medium=Exinfluencer&utm_source=Exinfluencer&utm_content=000026UJ&utm_term=10006555&utm_id=NA-SkillsNetwork-Channel-SkillsNetworkCoursesIBMRP0203ENSkillsNetwork23863830-2021-01-01\">Bank of Canada daily average exchange rates</a>\n",
    "\n",
    "### 1. Canadian Principal Crops Data \\*\n",
    "\n",
    "This dataset contains agricultural production measures for the principle crops grown in Canada, including a breakdown by province and teritory, for each year from 1908 to 2020.\n",
    "\n",
    "For this assignment you will use a preprocessed snapshot of this dataset (see below).\n",
    "\n",
    "A detailed description of this dataset can be obtained from the StatsCan Data Portal at:\n",
    "[https://www150.statcan.gc.ca/t1/tbl1/en/tv.action?pid=3210035901](https://www150.statcan.gc.ca/t1/tbl1/en/tv.action?utm_medium=Exinfluencer&utm_source=Exinfluencer&utm_content=000026UJ&utm_term=10006555&utm_id=NA-SkillsNetwork-Channel-SkillsNetworkCoursesIBMRP0203ENSkillsNetwork23863830-2021-01-01&pid=3210035901)\\\n",
    "Detailed information is included in the metadata file and as header text in the data file, which can be downloaded - look for the 'download options' link.\n",
    "\n",
    "### 2. Farm product prices\n",
    "\n",
    "This dataset contains monthly average farm product prices for Canadian crops and livestock by province and teritory, from 1980 to 2020 (or 'last year', whichever is greatest).\n",
    "\n",
    "For this assignment you will use a preprocessed snapshot of this dataset (see below).\n",
    "\n",
    "A description of this dataset can be obtained from the StatsCan Data Portal at:\n",
    "[https://www150.statcan.gc.ca/t1/tbl1/en/tv.action?pid=3210007701](https://www150.statcan.gc.ca/t1/tbl1/en/tv.action?utm_medium=Exinfluencer&utm_source=Exinfluencer&utm_content=000026UJ&utm_term=10006555&utm_id=NA-SkillsNetwork-Channel-SkillsNetworkCoursesIBMRP0203ENSkillsNetwork23863830-2021-01-01&pid=3210007701)\n",
    "The information is included in the metadata file, which can be downloaded - look for the 'download options' link.\n",
    "\n",
    "### 3. Bank of Canada daily average exchange rates \\*\n",
    "\n",
    "This dataset contains the daily average exchange rates for multiple foreign currencies. Exchange rates are expressed as 1 unit of the foreign currency converted into Canadian dollars. It includes only the latest four years of data, and the rates are published once each business day by 16:30 ET.\n",
    "\n",
    "For this assignment you will use a snapshot of this dataset with only the USD-CAD exchange rates included (see next section). We have also prepared a monthly averaged version which you will be using below.\n",
    "\n",
    "A brief description of this dataset and the original dataset can be obtained from the Bank of Canada Data Portal at:\n",
    "[https://www.bankofcanada.ca/rates/exchange/daily-exchange-rates/](https://www.bankofcanada.ca/rates/exchange/daily-exchange-rates/?utm_medium=Exinfluencer&utm_source=Exinfluencer&utm_content=000026UJ&utm_term=10006555&utm_id=NA-SkillsNetwork-Channel-SkillsNetworkCoursesIBMRP0203ENSkillsNetwork23863830-2021-01-01)\n",
    "\n",
    "( \\* these datasets are the same as the ones you used in the practice lab)\n"
   ]
  },
  {
   "cell_type": "markdown",
   "metadata": {},
   "source": [
    "### Dataset URLs\n",
    "\n",
    "1.  Annual Crop Data: <https://cf-courses-data.s3.us.cloud-object-storage.appdomain.cloud/IBM-RP0203EN-SkillsNetwork/labs/Final%20Project/Annual_Crop_Data.csv>\n",
    "\n",
    "2.  Farm product prices: <https://cf-courses-data.s3.us.cloud-object-storage.appdomain.cloud/IBM-RP0203EN-SkillsNetwork/labs/Final%20Project/Monthly_Farm_Prices.csv>\n",
    "\n",
    "3.  Daily FX Data: <https://cf-courses-data.s3.us.cloud-object-storage.appdomain.cloud/IBM-RP0203EN-SkillsNetwork/labs/Final%20Project/Daily_FX.csv>\n",
    "\n",
    "4.  Monthly FX Data: <https://cf-courses-data.s3.us.cloud-object-storage.appdomain.cloud/IBM-RP0203EN-SkillsNetwork/labs/Final%20Project/Monthly_FX.csv>\n",
    "\n",
    "<span style=\"color:red\">**IMPORTANT:**</span> You will be loading these datasets directly into R data frames from these URLs instead of from the StatsCan and Bank of Canada portals. The versions provided at these URLs are simplified and subsetted versions of the original datasets.\n"
   ]
  },
  {
   "cell_type": "markdown",
   "metadata": {},
   "source": [
    "#### Now let's load these datasets into four separate tables.\n",
    "\n",
    "Let's first load the RSQLite package:\n"
   ]
  },
  {
   "cell_type": "code",
   "execution_count": 14,
   "metadata": {
    "tags": []
   },
   "outputs": [],
   "source": [
    "install.packages(\"https://cran.r-project.org/src/contrib/Archive/RSQLite/RSQLite_0.10.0.tar.gz\", repos = NULL, type = \"source\", dependencies = TRUE) "
   ]
  },
  {
   "cell_type": "markdown",
   "metadata": {},
   "source": [
    "#### Restart Kernel\n",
    "\n",
    "After installing the RSQLite package, it is necessary to restart R Kernel. Click **Kernel** > **Restart Kernel** from the main menu. This will register the newly installed packages. Now proceed to load the RSQLite package. \n"
   ]
  },
  {
   "cell_type": "code",
   "execution_count": 15,
   "metadata": {
    "tags": []
   },
   "outputs": [],
   "source": [
    "library(\"DBI\")\n",
    "library(\"RSQLite\")"
   ]
  },
  {
   "cell_type": "markdown",
   "metadata": {},
   "source": [
    "## Problem 1\n",
    "\n",
    "#### Create tables\n",
    "\n",
    "Establish a connection **conn** to the RSQLite database **FinalDB.sqlite**, and create the following four tables.\n",
    "\n",
    "1.  **CROP_DATA**\n",
    "2.  **FARM_PRICES**\n",
    "3.  **DAILY_FX**\n",
    "4.  **MONTHLY_FX**\n",
    "\n",
    "The previous practice lab will help you accomplish this.\n"
   ]
  },
  {
   "cell_type": "code",
   "execution_count": 21,
   "metadata": {
    "tags": []
   },
   "outputs": [],
   "source": [
    "# Write your query here\n",
    "conn <- dbConnect(RSQLite::SQLite(), \"FinalDB.sqlite\")"
   ]
  },
  {
   "cell_type": "code",
   "execution_count": 22,
   "metadata": {
    "tags": []
   },
   "outputs": [
    {
     "data": {
      "text/html": [],
      "text/latex": [],
      "text/markdown": [],
      "text/plain": [
       "character(0)"
      ]
     },
     "metadata": {},
     "output_type": "display_data"
    }
   ],
   "source": [
    "#check list of tables in the present db.\n",
    "dbListTables(conn)"
   ]
  },
  {
   "cell_type": "code",
   "execution_count": 23,
   "metadata": {
    "tags": []
   },
   "outputs": [
    {
     "name": "stdout",
     "output_type": "stream",
     "text": [
      "Table was created successfully.\n"
     ]
    }
   ],
   "source": [
    "#CROP_DATA:\n",
    "df1 <- dbExecute(conn, \n",
    "                    \"CREATE TABLE CROP_DATA (\n",
    "                                      CD_ID INTEGER NOT NULL,\n",
    "                                      YEAR DATE NOT NULL,\n",
    "                                      CROP_TYPE VARCHAR(20) NOT NULL,\n",
    "                                      GEO VARCHAR(20) NOT NULL, \n",
    "                                      SEEDED_AREA INTEGER NOT NULL,\n",
    "                                      HARVESTED_AREA INTEGER NOT NULL,\n",
    "                                      PRODUCTION INTEGER NOT NULL,\n",
    "                                      AVG_YIELD INTEGER NOT NULL,\n",
    "                                      PRIMARY KEY (CD_ID)\n",
    "                                      )\"\n",
    "                    )\n",
    "\n",
    "    if (df1 == -1){\n",
    "        cat (\"An error has occurred.\\n\")\n",
    "        msg <- odbcGetErrMsg(conn)\n",
    "        print (msg)\n",
    "    } else {\n",
    "        cat (\"Table was created successfully.\\n\")\n",
    "    }\n"
   ]
  },
  {
   "cell_type": "code",
   "execution_count": 24,
   "metadata": {
    "tags": []
   },
   "outputs": [
    {
     "name": "stdout",
     "output_type": "stream",
     "text": [
      "FARM_PRICES Table was created successfully.\n"
     ]
    }
   ],
   "source": [
    "# FARM_PRICES\n",
    "df2 <- dbExecute(conn, \n",
    "                    \"CREATE TABLE FARM_PRICES (\n",
    "                                        CD_ID INTEGER NOT NULL,\n",
    "                                        DATE DATE NOT NULL,\n",
    "                                        CROP_TYPE VARCHAR(20) NOT NULL,\n",
    "                                        GEO VARCHAR(20) NOT NULL, \n",
    "                                        PRICE_PRERMT FLOAT(6),\n",
    "                                        PRIMARY KEY (CD_ID)\n",
    "                                        )\"\n",
    "                    )\n",
    "\n",
    "    if (df2 == -1){\n",
    "        cat (\"An error has occurred.\\n\")\n",
    "        msg <- odbcGetErrMsg(conn)\n",
    "        print (msg)\n",
    "    } else {\n",
    "        cat (\"FARM_PRICES Table was created successfully.\\n\")\n",
    "    }"
   ]
  },
  {
   "cell_type": "code",
   "execution_count": 25,
   "metadata": {
    "tags": []
   },
   "outputs": [
    {
     "name": "stdout",
     "output_type": "stream",
     "text": [
      "DAILY_FX Table was created successfully.\n"
     ]
    }
   ],
   "source": [
    "# DAILY_FX: \n",
    "df3 <- dbExecute(conn, \"CREATE TABLE DAILY_FX (\n",
    "                                DFX_ID INTEGER NOT NULL,\n",
    "                                DATE DATE NOT NULL,\n",
    "                                FXUSDCAD FLOAT(6),\n",
    "                                PRIMARY KEY (DFX_ID)\n",
    "                                )\"\n",
    "                     )\n",
    "    if (df3 == -1){\n",
    "        cat (\"An error has occurred.\\n\")\n",
    "        msg <- odbcGetErrMsg(conn)\n",
    "        print(msg)\n",
    "    } else {\n",
    "        cat (\"DAILY_FX Table was created successfully.\\n\")\n",
    "    }"
   ]
  },
  {
   "cell_type": "code",
   "execution_count": 26,
   "metadata": {
    "tags": []
   },
   "outputs": [
    {
     "name": "stdout",
     "output_type": "stream",
     "text": [
      "MONTHLY_FX Table was created successfully.\n"
     ]
    }
   ],
   "source": [
    "# MONTHLY_FX:\n",
    "\n",
    "df4 <- dbExecute(conn, \"CREATE TABLE MONTHLY_FX (\n",
    "                                DFX_ID INTEGER NOT NULL,\n",
    "                                DATE DATE NOT NULL,\n",
    "                                FXUSDCAD FLOAT(6),\n",
    "                                PRIMARY KEY (DFX_ID)\n",
    "                                )\"\n",
    "                     )\n",
    "    if (df4 == -1){\n",
    "        cat (\"An error has occurred.\\n\")\n",
    "        msg <- odbcGetErrMsg(conn)\n",
    "        print(msg)\n",
    "    } else {\n",
    "        cat (\"MONTHLY_FX Table was created successfully.\\n\")\n",
    "    }"
   ]
  },
  {
   "cell_type": "markdown",
   "metadata": {},
   "source": [
    "## Problem 2\n",
    "\n",
    "#### Read Datasets and load your tables in database\n",
    "\n",
    "Read the datasets into R dataframes using the urls provided above. Then load your tables in database.\n"
   ]
  },
  {
   "cell_type": "code",
   "execution_count": 28,
   "metadata": {
    "tags": []
   },
   "outputs": [
    {
     "data": {
      "text/html": [
       "<table>\n",
       "<caption>A data.frame: 6 × 8</caption>\n",
       "<thead>\n",
       "\t<tr><th></th><th scope=col>CD_ID</th><th scope=col>YEAR</th><th scope=col>CROP_TYPE</th><th scope=col>GEO</th><th scope=col>SEEDED_AREA</th><th scope=col>HARVESTED_AREA</th><th scope=col>PRODUCTION</th><th scope=col>AVG_YIELD</th></tr>\n",
       "\t<tr><th></th><th scope=col>&lt;int&gt;</th><th scope=col>&lt;fct&gt;</th><th scope=col>&lt;fct&gt;</th><th scope=col>&lt;fct&gt;</th><th scope=col>&lt;int&gt;</th><th scope=col>&lt;int&gt;</th><th scope=col>&lt;int&gt;</th><th scope=col>&lt;int&gt;</th></tr>\n",
       "</thead>\n",
       "<tbody>\n",
       "\t<tr><th scope=row>1</th><td>0</td><td>1965-12-31</td><td>Barley</td><td>Alberta     </td><td>1372000</td><td>1372000</td><td>2504000</td><td>1825</td></tr>\n",
       "\t<tr><th scope=row>2</th><td>1</td><td>1965-12-31</td><td>Barley</td><td>Canada      </td><td>2476800</td><td>2476800</td><td>4752900</td><td>1920</td></tr>\n",
       "\t<tr><th scope=row>3</th><td>2</td><td>1965-12-31</td><td>Barley</td><td>Saskatchewan</td><td> 708000</td><td> 708000</td><td>1415000</td><td>2000</td></tr>\n",
       "\t<tr><th scope=row>4</th><td>3</td><td>1965-12-31</td><td>Canola</td><td>Alberta     </td><td> 297400</td><td> 297400</td><td> 215500</td><td> 725</td></tr>\n",
       "\t<tr><th scope=row>5</th><td>4</td><td>1965-12-31</td><td>Canola</td><td>Canada      </td><td> 580700</td><td> 580700</td><td> 512600</td><td> 885</td></tr>\n",
       "\t<tr><th scope=row>6</th><td>5</td><td>1965-12-31</td><td>Canola</td><td>Saskatchewan</td><td> 224600</td><td> 224600</td><td> 242700</td><td>1080</td></tr>\n",
       "</tbody>\n",
       "</table>\n"
      ],
      "text/latex": [
       "A data.frame: 6 × 8\n",
       "\\begin{tabular}{r|llllllll}\n",
       "  & CD\\_ID & YEAR & CROP\\_TYPE & GEO & SEEDED\\_AREA & HARVESTED\\_AREA & PRODUCTION & AVG\\_YIELD\\\\\n",
       "  & <int> & <fct> & <fct> & <fct> & <int> & <int> & <int> & <int>\\\\\n",
       "\\hline\n",
       "\t1 & 0 & 1965-12-31 & Barley & Alberta      & 1372000 & 1372000 & 2504000 & 1825\\\\\n",
       "\t2 & 1 & 1965-12-31 & Barley & Canada       & 2476800 & 2476800 & 4752900 & 1920\\\\\n",
       "\t3 & 2 & 1965-12-31 & Barley & Saskatchewan &  708000 &  708000 & 1415000 & 2000\\\\\n",
       "\t4 & 3 & 1965-12-31 & Canola & Alberta      &  297400 &  297400 &  215500 &  725\\\\\n",
       "\t5 & 4 & 1965-12-31 & Canola & Canada       &  580700 &  580700 &  512600 &  885\\\\\n",
       "\t6 & 5 & 1965-12-31 & Canola & Saskatchewan &  224600 &  224600 &  242700 & 1080\\\\\n",
       "\\end{tabular}\n"
      ],
      "text/markdown": [
       "\n",
       "A data.frame: 6 × 8\n",
       "\n",
       "| <!--/--> | CD_ID &lt;int&gt; | YEAR &lt;fct&gt; | CROP_TYPE &lt;fct&gt; | GEO &lt;fct&gt; | SEEDED_AREA &lt;int&gt; | HARVESTED_AREA &lt;int&gt; | PRODUCTION &lt;int&gt; | AVG_YIELD &lt;int&gt; |\n",
       "|---|---|---|---|---|---|---|---|---|\n",
       "| 1 | 0 | 1965-12-31 | Barley | Alberta      | 1372000 | 1372000 | 2504000 | 1825 |\n",
       "| 2 | 1 | 1965-12-31 | Barley | Canada       | 2476800 | 2476800 | 4752900 | 1920 |\n",
       "| 3 | 2 | 1965-12-31 | Barley | Saskatchewan |  708000 |  708000 | 1415000 | 2000 |\n",
       "| 4 | 3 | 1965-12-31 | Canola | Alberta      |  297400 |  297400 |  215500 |  725 |\n",
       "| 5 | 4 | 1965-12-31 | Canola | Canada       |  580700 |  580700 |  512600 |  885 |\n",
       "| 6 | 5 | 1965-12-31 | Canola | Saskatchewan |  224600 |  224600 |  242700 | 1080 |\n",
       "\n"
      ],
      "text/plain": [
       "  CD_ID YEAR       CROP_TYPE GEO          SEEDED_AREA HARVESTED_AREA PRODUCTION\n",
       "1 0     1965-12-31 Barley    Alberta      1372000     1372000        2504000   \n",
       "2 1     1965-12-31 Barley    Canada       2476800     2476800        4752900   \n",
       "3 2     1965-12-31 Barley    Saskatchewan  708000      708000        1415000   \n",
       "4 3     1965-12-31 Canola    Alberta       297400      297400         215500   \n",
       "5 4     1965-12-31 Canola    Canada        580700      580700         512600   \n",
       "6 5     1965-12-31 Canola    Saskatchewan  224600      224600         242700   \n",
       "  AVG_YIELD\n",
       "1 1825     \n",
       "2 1920     \n",
       "3 2000     \n",
       "4  725     \n",
       "5  885     \n",
       "6 1080     "
      ]
     },
     "metadata": {},
     "output_type": "display_data"
    },
    {
     "data": {
      "text/html": [
       "<table>\n",
       "<caption>A data.frame: 6 × 5</caption>\n",
       "<thead>\n",
       "\t<tr><th></th><th scope=col>CD_ID</th><th scope=col>DATE</th><th scope=col>CROP_TYPE</th><th scope=col>GEO</th><th scope=col>PRICE_PRERMT</th></tr>\n",
       "\t<tr><th></th><th scope=col>&lt;int&gt;</th><th scope=col>&lt;fct&gt;</th><th scope=col>&lt;fct&gt;</th><th scope=col>&lt;fct&gt;</th><th scope=col>&lt;dbl&gt;</th></tr>\n",
       "</thead>\n",
       "<tbody>\n",
       "\t<tr><th scope=row>1</th><td>0</td><td>1985-01-01</td><td>Barley</td><td>Alberta     </td><td>127.39</td></tr>\n",
       "\t<tr><th scope=row>2</th><td>1</td><td>1985-01-01</td><td>Barley</td><td>Saskatchewan</td><td>121.38</td></tr>\n",
       "\t<tr><th scope=row>3</th><td>2</td><td>1985-01-01</td><td>Canola</td><td>Alberta     </td><td>342.00</td></tr>\n",
       "\t<tr><th scope=row>4</th><td>3</td><td>1985-01-01</td><td>Canola</td><td>Saskatchewan</td><td>339.82</td></tr>\n",
       "\t<tr><th scope=row>5</th><td>4</td><td>1985-01-01</td><td>Rye   </td><td>Alberta     </td><td>100.77</td></tr>\n",
       "\t<tr><th scope=row>6</th><td>5</td><td>1985-01-01</td><td>Rye   </td><td>Saskatchewan</td><td>109.75</td></tr>\n",
       "</tbody>\n",
       "</table>\n"
      ],
      "text/latex": [
       "A data.frame: 6 × 5\n",
       "\\begin{tabular}{r|lllll}\n",
       "  & CD\\_ID & DATE & CROP\\_TYPE & GEO & PRICE\\_PRERMT\\\\\n",
       "  & <int> & <fct> & <fct> & <fct> & <dbl>\\\\\n",
       "\\hline\n",
       "\t1 & 0 & 1985-01-01 & Barley & Alberta      & 127.39\\\\\n",
       "\t2 & 1 & 1985-01-01 & Barley & Saskatchewan & 121.38\\\\\n",
       "\t3 & 2 & 1985-01-01 & Canola & Alberta      & 342.00\\\\\n",
       "\t4 & 3 & 1985-01-01 & Canola & Saskatchewan & 339.82\\\\\n",
       "\t5 & 4 & 1985-01-01 & Rye    & Alberta      & 100.77\\\\\n",
       "\t6 & 5 & 1985-01-01 & Rye    & Saskatchewan & 109.75\\\\\n",
       "\\end{tabular}\n"
      ],
      "text/markdown": [
       "\n",
       "A data.frame: 6 × 5\n",
       "\n",
       "| <!--/--> | CD_ID &lt;int&gt; | DATE &lt;fct&gt; | CROP_TYPE &lt;fct&gt; | GEO &lt;fct&gt; | PRICE_PRERMT &lt;dbl&gt; |\n",
       "|---|---|---|---|---|---|\n",
       "| 1 | 0 | 1985-01-01 | Barley | Alberta      | 127.39 |\n",
       "| 2 | 1 | 1985-01-01 | Barley | Saskatchewan | 121.38 |\n",
       "| 3 | 2 | 1985-01-01 | Canola | Alberta      | 342.00 |\n",
       "| 4 | 3 | 1985-01-01 | Canola | Saskatchewan | 339.82 |\n",
       "| 5 | 4 | 1985-01-01 | Rye    | Alberta      | 100.77 |\n",
       "| 6 | 5 | 1985-01-01 | Rye    | Saskatchewan | 109.75 |\n",
       "\n"
      ],
      "text/plain": [
       "  CD_ID DATE       CROP_TYPE GEO          PRICE_PRERMT\n",
       "1 0     1985-01-01 Barley    Alberta      127.39      \n",
       "2 1     1985-01-01 Barley    Saskatchewan 121.38      \n",
       "3 2     1985-01-01 Canola    Alberta      342.00      \n",
       "4 3     1985-01-01 Canola    Saskatchewan 339.82      \n",
       "5 4     1985-01-01 Rye       Alberta      100.77      \n",
       "6 5     1985-01-01 Rye       Saskatchewan 109.75      "
      ]
     },
     "metadata": {},
     "output_type": "display_data"
    },
    {
     "data": {
      "text/html": [
       "<table>\n",
       "<caption>A data.frame: 6 × 3</caption>\n",
       "<thead>\n",
       "\t<tr><th></th><th scope=col>DFX_ID</th><th scope=col>DATE</th><th scope=col>FXUSDCAD</th></tr>\n",
       "\t<tr><th></th><th scope=col>&lt;int&gt;</th><th scope=col>&lt;fct&gt;</th><th scope=col>&lt;dbl&gt;</th></tr>\n",
       "</thead>\n",
       "<tbody>\n",
       "\t<tr><th scope=row>1</th><td>0</td><td>2017-01-03</td><td>1.3435</td></tr>\n",
       "\t<tr><th scope=row>2</th><td>1</td><td>2017-01-04</td><td>1.3315</td></tr>\n",
       "\t<tr><th scope=row>3</th><td>2</td><td>2017-01-05</td><td>1.3244</td></tr>\n",
       "\t<tr><th scope=row>4</th><td>3</td><td>2017-01-06</td><td>1.3214</td></tr>\n",
       "\t<tr><th scope=row>5</th><td>4</td><td>2017-01-09</td><td>1.3240</td></tr>\n",
       "\t<tr><th scope=row>6</th><td>5</td><td>2017-01-10</td><td>1.3213</td></tr>\n",
       "</tbody>\n",
       "</table>\n"
      ],
      "text/latex": [
       "A data.frame: 6 × 3\n",
       "\\begin{tabular}{r|lll}\n",
       "  & DFX\\_ID & DATE & FXUSDCAD\\\\\n",
       "  & <int> & <fct> & <dbl>\\\\\n",
       "\\hline\n",
       "\t1 & 0 & 2017-01-03 & 1.3435\\\\\n",
       "\t2 & 1 & 2017-01-04 & 1.3315\\\\\n",
       "\t3 & 2 & 2017-01-05 & 1.3244\\\\\n",
       "\t4 & 3 & 2017-01-06 & 1.3214\\\\\n",
       "\t5 & 4 & 2017-01-09 & 1.3240\\\\\n",
       "\t6 & 5 & 2017-01-10 & 1.3213\\\\\n",
       "\\end{tabular}\n"
      ],
      "text/markdown": [
       "\n",
       "A data.frame: 6 × 3\n",
       "\n",
       "| <!--/--> | DFX_ID &lt;int&gt; | DATE &lt;fct&gt; | FXUSDCAD &lt;dbl&gt; |\n",
       "|---|---|---|---|\n",
       "| 1 | 0 | 2017-01-03 | 1.3435 |\n",
       "| 2 | 1 | 2017-01-04 | 1.3315 |\n",
       "| 3 | 2 | 2017-01-05 | 1.3244 |\n",
       "| 4 | 3 | 2017-01-06 | 1.3214 |\n",
       "| 5 | 4 | 2017-01-09 | 1.3240 |\n",
       "| 6 | 5 | 2017-01-10 | 1.3213 |\n",
       "\n"
      ],
      "text/plain": [
       "  DFX_ID DATE       FXUSDCAD\n",
       "1 0      2017-01-03 1.3435  \n",
       "2 1      2017-01-04 1.3315  \n",
       "3 2      2017-01-05 1.3244  \n",
       "4 3      2017-01-06 1.3214  \n",
       "5 4      2017-01-09 1.3240  \n",
       "6 5      2017-01-10 1.3213  "
      ]
     },
     "metadata": {},
     "output_type": "display_data"
    },
    {
     "data": {
      "text/html": [
       "<table>\n",
       "<caption>A data.frame: 6 × 3</caption>\n",
       "<thead>\n",
       "\t<tr><th></th><th scope=col>DFX_ID</th><th scope=col>DATE</th><th scope=col>FXUSDCAD</th></tr>\n",
       "\t<tr><th></th><th scope=col>&lt;int&gt;</th><th scope=col>&lt;fct&gt;</th><th scope=col>&lt;dbl&gt;</th></tr>\n",
       "</thead>\n",
       "<tbody>\n",
       "\t<tr><th scope=row>1</th><td>0</td><td>2017-01-01</td><td>1.319276</td></tr>\n",
       "\t<tr><th scope=row>2</th><td>1</td><td>2017-02-01</td><td>1.310726</td></tr>\n",
       "\t<tr><th scope=row>3</th><td>2</td><td>2017-03-01</td><td>1.338643</td></tr>\n",
       "\t<tr><th scope=row>4</th><td>3</td><td>2017-04-01</td><td>1.344021</td></tr>\n",
       "\t<tr><th scope=row>5</th><td>4</td><td>2017-05-01</td><td>1.360705</td></tr>\n",
       "\t<tr><th scope=row>6</th><td>5</td><td>2017-06-01</td><td>1.329805</td></tr>\n",
       "</tbody>\n",
       "</table>\n"
      ],
      "text/latex": [
       "A data.frame: 6 × 3\n",
       "\\begin{tabular}{r|lll}\n",
       "  & DFX\\_ID & DATE & FXUSDCAD\\\\\n",
       "  & <int> & <fct> & <dbl>\\\\\n",
       "\\hline\n",
       "\t1 & 0 & 2017-01-01 & 1.319276\\\\\n",
       "\t2 & 1 & 2017-02-01 & 1.310726\\\\\n",
       "\t3 & 2 & 2017-03-01 & 1.338643\\\\\n",
       "\t4 & 3 & 2017-04-01 & 1.344021\\\\\n",
       "\t5 & 4 & 2017-05-01 & 1.360705\\\\\n",
       "\t6 & 5 & 2017-06-01 & 1.329805\\\\\n",
       "\\end{tabular}\n"
      ],
      "text/markdown": [
       "\n",
       "A data.frame: 6 × 3\n",
       "\n",
       "| <!--/--> | DFX_ID &lt;int&gt; | DATE &lt;fct&gt; | FXUSDCAD &lt;dbl&gt; |\n",
       "|---|---|---|---|\n",
       "| 1 | 0 | 2017-01-01 | 1.319276 |\n",
       "| 2 | 1 | 2017-02-01 | 1.310726 |\n",
       "| 3 | 2 | 2017-03-01 | 1.338643 |\n",
       "| 4 | 3 | 2017-04-01 | 1.344021 |\n",
       "| 5 | 4 | 2017-05-01 | 1.360705 |\n",
       "| 6 | 5 | 2017-06-01 | 1.329805 |\n",
       "\n"
      ],
      "text/plain": [
       "  DFX_ID DATE       FXUSDCAD\n",
       "1 0      2017-01-01 1.319276\n",
       "2 1      2017-02-01 1.310726\n",
       "3 2      2017-03-01 1.338643\n",
       "4 3      2017-04-01 1.344021\n",
       "5 4      2017-05-01 1.360705\n",
       "6 5      2017-06-01 1.329805"
      ]
     },
     "metadata": {},
     "output_type": "display_data"
    },
    {
     "data": {
      "text/html": [
       "TRUE"
      ],
      "text/latex": [
       "TRUE"
      ],
      "text/markdown": [
       "TRUE"
      ],
      "text/plain": [
       "[1] TRUE"
      ]
     },
     "metadata": {},
     "output_type": "display_data"
    },
    {
     "data": {
      "text/html": [
       "TRUE"
      ],
      "text/latex": [
       "TRUE"
      ],
      "text/markdown": [
       "TRUE"
      ],
      "text/plain": [
       "[1] TRUE"
      ]
     },
     "metadata": {},
     "output_type": "display_data"
    },
    {
     "data": {
      "text/html": [
       "TRUE"
      ],
      "text/latex": [
       "TRUE"
      ],
      "text/markdown": [
       "TRUE"
      ],
      "text/plain": [
       "[1] TRUE"
      ]
     },
     "metadata": {},
     "output_type": "display_data"
    },
    {
     "data": {
      "text/html": [
       "TRUE"
      ],
      "text/latex": [
       "TRUE"
      ],
      "text/markdown": [
       "TRUE"
      ],
      "text/plain": [
       "[1] TRUE"
      ]
     },
     "metadata": {},
     "output_type": "display_data"
    }
   ],
   "source": [
    "# Write your query here\n",
    "\n",
    "# Read the datasets into R dataframes using the urls provided above.\n",
    "\n",
    "crop_df <- read.csv('https://cf-courses-data.s3.us.cloud-object-storage.appdomain.cloud/IBM-RP0203EN-SkillsNetwork/labs/Final%20Project/Annual_Crop_Data.csv')\n",
    "\n",
    "price_df <- read.csv('https://cf-courses-data.s3.us.cloud-object-storage.appdomain.cloud/IBM-RP0203EN-SkillsNetwork/labs/Final%20Project/Monthly_Farm_Prices.csv')\n",
    "\n",
    "daily_df <- read.csv('https://cf-courses-data.s3.us.cloud-object-storage.appdomain.cloud/IBM-RP0203EN-SkillsNetwork/labs/Final%20Project/Daily_FX.csv')\n",
    "\n",
    "monthly_df <- read.csv('https://cf-courses-data.s3.us.cloud-object-storage.appdomain.cloud/IBM-RP0203EN-SkillsNetwork/labs/Final%20Project/Monthly_FX.csv')\n",
    "\n",
    "head(crop_df)\n",
    "head(price_df)\n",
    "head(daily_df)\n",
    "head(monthly_df)\n",
    "\n",
    "# Then load your tables in database.\n",
    "\n",
    "dbWriteTable(conn, \"CROP_DATA\", crop_df, overwrite=TRUE, header = TRUE)\n",
    "\n",
    "dbWriteTable(conn, \"FARM_PRICES\", price_df, overwrite=TRUE, header = TRUE)\n",
    "\n",
    "dbWriteTable(conn, \"DAILY_FX\", daily_df, overwrite=TRUE, header = TRUE)\n",
    "\n",
    "dbWriteTable(conn, \"MONTHLY_FX\", monthly_df, overwrite=TRUE, header = TRUE)"
   ]
  },
  {
   "cell_type": "markdown",
   "metadata": {},
   "source": [
    "## Now execute SQL queries using the RSQLite R package to solve the assignment problems.\n",
    "\n",
    "## Problem 3\n",
    "\n",
    "#### How many records are in the farm prices dataset?\n"
   ]
  },
  {
   "cell_type": "code",
   "execution_count": 32,
   "metadata": {
    "tags": []
   },
   "outputs": [
    {
     "data": {
      "text/html": [
       "2678"
      ],
      "text/latex": [
       "2678"
      ],
      "text/markdown": [
       "2678"
      ],
      "text/plain": [
       "[1] 2678"
      ]
     },
     "metadata": {},
     "output_type": "display_data"
    },
    {
     "data": {
      "text/html": [
       "<table>\n",
       "<caption>A data.frame: 1 × 1</caption>\n",
       "<thead>\n",
       "\t<tr><th></th><th scope=col>COUNT(CD_ID)</th></tr>\n",
       "\t<tr><th></th><th scope=col>&lt;int&gt;</th></tr>\n",
       "</thead>\n",
       "<tbody>\n",
       "\t<tr><th scope=row>1</th><td>2678</td></tr>\n",
       "</tbody>\n",
       "</table>\n"
      ],
      "text/latex": [
       "A data.frame: 1 × 1\n",
       "\\begin{tabular}{r|l}\n",
       "  & COUNT(CD\\_ID)\\\\\n",
       "  & <int>\\\\\n",
       "\\hline\n",
       "\t1 & 2678\\\\\n",
       "\\end{tabular}\n"
      ],
      "text/markdown": [
       "\n",
       "A data.frame: 1 × 1\n",
       "\n",
       "| <!--/--> | COUNT(CD_ID) &lt;int&gt; |\n",
       "|---|---|\n",
       "| 1 | 2678 |\n",
       "\n"
      ],
      "text/plain": [
       "  COUNT(CD_ID)\n",
       "1 2678        "
      ]
     },
     "metadata": {},
     "output_type": "display_data"
    }
   ],
   "source": [
    "# Write your query here\n",
    "\n",
    "nrow(price_df)\n",
    "\n",
    "dbGetQuery(conn, 'SELECT COUNT(CD_ID) FROM FARM_PRICES')"
   ]
  },
  {
   "cell_type": "markdown",
   "metadata": {},
   "source": [
    "## Problem 4\n",
    "\n",
    "#### Which geographies are included in the farm prices dataset?\n"
   ]
  },
  {
   "cell_type": "code",
   "execution_count": 34,
   "metadata": {},
   "outputs": [
    {
     "data": {
      "text/html": [
       "<style>\n",
       ".list-inline {list-style: none; margin:0; padding: 0}\n",
       ".list-inline>li {display: inline-block}\n",
       ".list-inline>li:not(:last-child)::after {content: \"\\00b7\"; padding: 0 .5ex}\n",
       "</style>\n",
       "<ol class=list-inline><li>Alberta</li><li>Saskatchewan</li></ol>\n",
       "\n",
       "<details>\n",
       "\t<summary style=display:list-item;cursor:pointer>\n",
       "\t\t<strong>Levels</strong>:\n",
       "\t</summary>\n",
       "\t<style>\n",
       "\t.list-inline {list-style: none; margin:0; padding: 0}\n",
       "\t.list-inline>li {display: inline-block}\n",
       "\t.list-inline>li:not(:last-child)::after {content: \"\\00b7\"; padding: 0 .5ex}\n",
       "\t</style>\n",
       "\t<ol class=list-inline><li>'Alberta'</li><li>'Saskatchewan'</li></ol>\n",
       "</details>"
      ],
      "text/latex": [
       "\\begin{enumerate*}\n",
       "\\item Alberta\n",
       "\\item Saskatchewan\n",
       "\\end{enumerate*}\n",
       "\n",
       "\\emph{Levels}: \\begin{enumerate*}\n",
       "\\item 'Alberta'\n",
       "\\item 'Saskatchewan'\n",
       "\\end{enumerate*}\n"
      ],
      "text/markdown": [
       "1. Alberta\n",
       "2. Saskatchewan\n",
       "\n",
       "\n",
       "\n",
       "**Levels**: 1. 'Alberta'\n",
       "2. 'Saskatchewan'\n",
       "\n",
       "\n"
      ],
      "text/plain": [
       "[1] Alberta      Saskatchewan\n",
       "Levels: Alberta Saskatchewan"
      ]
     },
     "metadata": {},
     "output_type": "display_data"
    },
    {
     "data": {
      "text/html": [
       "<table>\n",
       "<caption>A data.frame: 2 × 1</caption>\n",
       "<thead>\n",
       "\t<tr><th></th><th scope=col>GEO</th></tr>\n",
       "\t<tr><th></th><th scope=col>&lt;chr&gt;</th></tr>\n",
       "</thead>\n",
       "<tbody>\n",
       "\t<tr><th scope=row>1</th><td>Alberta     </td></tr>\n",
       "\t<tr><th scope=row>2</th><td>Saskatchewan</td></tr>\n",
       "</tbody>\n",
       "</table>\n"
      ],
      "text/latex": [
       "A data.frame: 2 × 1\n",
       "\\begin{tabular}{r|l}\n",
       "  & GEO\\\\\n",
       "  & <chr>\\\\\n",
       "\\hline\n",
       "\t1 & Alberta     \\\\\n",
       "\t2 & Saskatchewan\\\\\n",
       "\\end{tabular}\n"
      ],
      "text/markdown": [
       "\n",
       "A data.frame: 2 × 1\n",
       "\n",
       "| <!--/--> | GEO &lt;chr&gt; |\n",
       "|---|---|\n",
       "| 1 | Alberta      |\n",
       "| 2 | Saskatchewan |\n",
       "\n"
      ],
      "text/plain": [
       "  GEO         \n",
       "1 Alberta     \n",
       "2 Saskatchewan"
      ]
     },
     "metadata": {},
     "output_type": "display_data"
    }
   ],
   "source": [
    "# Write your query here\n",
    "\n",
    "unique(price_df$GEO)\n",
    "\n",
    "dbGetQuery(conn, 'SELECT DISTINCT(GEO) FROM FARM_PRICES')"
   ]
  },
  {
   "cell_type": "markdown",
   "metadata": {},
   "source": [
    "## Problem 5\n",
    "\n",
    "#### How many hectares of Rye were harvested in Canada in 1968?\n"
   ]
  },
  {
   "cell_type": "code",
   "execution_count": 50,
   "metadata": {},
   "outputs": [
    {
     "name": "stdout",
     "output_type": "stream",
     "text": [
      "Total harvested area for Rye after 1968: 19672790 \n",
      "  TotalHarvestedArea\n",
      "1           19672790\n"
     ]
    }
   ],
   "source": [
    "# Write your query here\n",
    "\n",
    "### R CODE to calculate the total harvested area for Rye after 1968\n",
    "\n",
    "# Ensure the YEAR column is in Date format before filtering\n",
    "crop_df$YEAR <- as.Date(crop_df$YEAR, format = \"%Y-%m-%d\")\n",
    "\n",
    "# Filter rows for Rye and after 1968-01-01\n",
    "canada_1968_rye <- crop_df[crop_df$YEAR > as.Date(\"1968-01-01\") & crop_df$CROP_TYPE == \"Rye\", ]\n",
    "\n",
    "# Calculate the total harvested area in R\n",
    "total_harvested_area <- sum(canada_1968_rye$HARVESTED_AREA, na.rm = TRUE)\n",
    "cat(\"Total harvested area for Rye after 1968:\", total_harvested_area, \"\\n\")\n",
    "\n",
    "### SQL query to calculate the total harvested area for Rye after 1968\n",
    "\n",
    "query_result <- dbGetQuery(conn, \"\n",
    "  SELECT SUM(HARVESTED_AREA) AS TotalHarvestedArea\n",
    "  FROM CROP_DATA\n",
    "  WHERE CROP_TYPE = 'Rye' AND YEAR > '1968-01-01'\n",
    "\")\n",
    "\n",
    "# Display the result from the SQL query\n",
    "print(query_result)\n"
   ]
  },
  {
   "cell_type": "markdown",
   "metadata": {},
   "source": [
    "## Problem 6\n",
    "\n",
    "#### Query and display the first 6 rows of the farm prices table for Rye.\n"
   ]
  },
  {
   "cell_type": "code",
   "execution_count": 54,
   "metadata": {},
   "outputs": [
    {
     "data": {
      "text/html": [
       "<table>\n",
       "<caption>A data.frame: 6 × 8</caption>\n",
       "<thead>\n",
       "\t<tr><th></th><th scope=col>CD_ID</th><th scope=col>YEAR</th><th scope=col>CROP_TYPE</th><th scope=col>GEO</th><th scope=col>SEEDED_AREA</th><th scope=col>HARVESTED_AREA</th><th scope=col>PRODUCTION</th><th scope=col>AVG_YIELD</th></tr>\n",
       "\t<tr><th></th><th scope=col>&lt;int&gt;</th><th scope=col>&lt;date&gt;</th><th scope=col>&lt;fct&gt;</th><th scope=col>&lt;fct&gt;</th><th scope=col>&lt;int&gt;</th><th scope=col>&lt;int&gt;</th><th scope=col>&lt;int&gt;</th><th scope=col>&lt;int&gt;</th></tr>\n",
       "</thead>\n",
       "<tbody>\n",
       "\t<tr><th scope=row>7</th><td> 6</td><td>1965-12-31</td><td>Rye</td><td>Alberta     </td><td> 81000</td><td> 81000</td><td>116400</td><td>1435</td></tr>\n",
       "\t<tr><th scope=row>8</th><td> 7</td><td>1965-12-31</td><td>Rye</td><td>Canada      </td><td>323900</td><td>323900</td><td>453400</td><td>1400</td></tr>\n",
       "\t<tr><th scope=row>9</th><td> 8</td><td>1965-12-31</td><td>Rye</td><td>Saskatchewan</td><td>166000</td><td>166000</td><td>224000</td><td>1350</td></tr>\n",
       "\t<tr><th scope=row>19</th><td>18</td><td>1966-12-31</td><td>Rye</td><td>Alberta     </td><td> 70000</td><td> 70000</td><td>109000</td><td>1555</td></tr>\n",
       "\t<tr><th scope=row>20</th><td>19</td><td>1966-12-31</td><td>Rye</td><td>Canada      </td><td>293400</td><td>293400</td><td>437600</td><td>1490</td></tr>\n",
       "\t<tr><th scope=row>21</th><td>20</td><td>1966-12-31</td><td>Rye</td><td>Saskatchewan</td><td>161000</td><td>161000</td><td>228600</td><td>1420</td></tr>\n",
       "</tbody>\n",
       "</table>\n"
      ],
      "text/latex": [
       "A data.frame: 6 × 8\n",
       "\\begin{tabular}{r|llllllll}\n",
       "  & CD\\_ID & YEAR & CROP\\_TYPE & GEO & SEEDED\\_AREA & HARVESTED\\_AREA & PRODUCTION & AVG\\_YIELD\\\\\n",
       "  & <int> & <date> & <fct> & <fct> & <int> & <int> & <int> & <int>\\\\\n",
       "\\hline\n",
       "\t7 &  6 & 1965-12-31 & Rye & Alberta      &  81000 &  81000 & 116400 & 1435\\\\\n",
       "\t8 &  7 & 1965-12-31 & Rye & Canada       & 323900 & 323900 & 453400 & 1400\\\\\n",
       "\t9 &  8 & 1965-12-31 & Rye & Saskatchewan & 166000 & 166000 & 224000 & 1350\\\\\n",
       "\t19 & 18 & 1966-12-31 & Rye & Alberta      &  70000 &  70000 & 109000 & 1555\\\\\n",
       "\t20 & 19 & 1966-12-31 & Rye & Canada       & 293400 & 293400 & 437600 & 1490\\\\\n",
       "\t21 & 20 & 1966-12-31 & Rye & Saskatchewan & 161000 & 161000 & 228600 & 1420\\\\\n",
       "\\end{tabular}\n"
      ],
      "text/markdown": [
       "\n",
       "A data.frame: 6 × 8\n",
       "\n",
       "| <!--/--> | CD_ID &lt;int&gt; | YEAR &lt;date&gt; | CROP_TYPE &lt;fct&gt; | GEO &lt;fct&gt; | SEEDED_AREA &lt;int&gt; | HARVESTED_AREA &lt;int&gt; | PRODUCTION &lt;int&gt; | AVG_YIELD &lt;int&gt; |\n",
       "|---|---|---|---|---|---|---|---|---|\n",
       "| 7 |  6 | 1965-12-31 | Rye | Alberta      |  81000 |  81000 | 116400 | 1435 |\n",
       "| 8 |  7 | 1965-12-31 | Rye | Canada       | 323900 | 323900 | 453400 | 1400 |\n",
       "| 9 |  8 | 1965-12-31 | Rye | Saskatchewan | 166000 | 166000 | 224000 | 1350 |\n",
       "| 19 | 18 | 1966-12-31 | Rye | Alberta      |  70000 |  70000 | 109000 | 1555 |\n",
       "| 20 | 19 | 1966-12-31 | Rye | Canada       | 293400 | 293400 | 437600 | 1490 |\n",
       "| 21 | 20 | 1966-12-31 | Rye | Saskatchewan | 161000 | 161000 | 228600 | 1420 |\n",
       "\n"
      ],
      "text/plain": [
       "   CD_ID YEAR       CROP_TYPE GEO          SEEDED_AREA HARVESTED_AREA\n",
       "7   6    1965-12-31 Rye       Alberta       81000       81000        \n",
       "8   7    1965-12-31 Rye       Canada       323900      323900        \n",
       "9   8    1965-12-31 Rye       Saskatchewan 166000      166000        \n",
       "19 18    1966-12-31 Rye       Alberta       70000       70000        \n",
       "20 19    1966-12-31 Rye       Canada       293400      293400        \n",
       "21 20    1966-12-31 Rye       Saskatchewan 161000      161000        \n",
       "   PRODUCTION AVG_YIELD\n",
       "7  116400     1435     \n",
       "8  453400     1400     \n",
       "9  224000     1350     \n",
       "19 109000     1555     \n",
       "20 437600     1490     \n",
       "21 228600     1420     "
      ]
     },
     "metadata": {},
     "output_type": "display_data"
    },
    {
     "name": "stdout",
     "output_type": "stream",
     "text": [
      "  row_names CD_ID       YEAR CROP_TYPE          GEO SEEDED_AREA HARVESTED_AREA\n",
      "1         7     6 1965-12-31       Rye      Alberta       81000          81000\n",
      "2         8     7 1965-12-31       Rye       Canada      323900         323900\n",
      "3         9     8 1965-12-31       Rye Saskatchewan      166000         166000\n",
      "4        19    18 1966-12-31       Rye      Alberta       70000          70000\n",
      "5        20    19 1966-12-31       Rye       Canada      293400         293400\n",
      "6        21    20 1966-12-31       Rye Saskatchewan      161000         161000\n",
      "  PRODUCTION AVG_YIELD\n",
      "1     116400      1435\n",
      "2     453400      1400\n",
      "3     224000      1350\n",
      "4     109000      1555\n",
      "5     437600      1490\n",
      "6     228600      1420\n"
     ]
    }
   ],
   "source": [
    "# Wriet your query here\n",
    "\n",
    "### R CODE \n",
    "rye_data = crop_df[crop_df$CROP_TYPE == \"Rye\", ]\n",
    "head(rye_data)\n",
    "\n",
    "### SQL CODE\n",
    "\n",
    "result <- dbGetQuery(conn, \"SELECT * FROM CROP_DATA WHERE CROP_TYPE='Rye' LIMIT 6\")\n",
    "print(result)"
   ]
  },
  {
   "cell_type": "markdown",
   "metadata": {},
   "source": [
    "## Problem 7\n",
    "\n",
    "#### Which provinces grew Barley?\n"
   ]
  },
  {
   "cell_type": "code",
   "execution_count": 56,
   "metadata": {},
   "outputs": [
    {
     "name": "stdout",
     "output_type": "stream",
     "text": [
      "[1] Alberta      Canada       Saskatchewan\n",
      "Levels: Alberta Canada Saskatchewan\n",
      "           GEO\n",
      "1      Alberta\n",
      "2       Canada\n",
      "3 Saskatchewan\n"
     ]
    }
   ],
   "source": [
    "# Write your query here\n",
    "\n",
    "### R CODE\n",
    "\n",
    "# Filter rows where CROP_TYPE is 'Barley'\n",
    "barley_data <- crop_df[crop_df$CROP_TYPE == \"Barley\", ]\n",
    "\n",
    "# Get unique provinces (GEO column)\n",
    "unique_provinces <- unique(barley_data$GEO)\n",
    "\n",
    "# Display the result\n",
    "print(unique_provinces)\n",
    "\n",
    "\n",
    "### SQL CODE\n",
    "\n",
    "result <- dbGetQuery(conn, \"SELECT DISTINCT(GEO) FROM CROP_DATA WHERE CROP_TYPE='Barley'\")\n",
    "print(result)"
   ]
  },
  {
   "cell_type": "markdown",
   "metadata": {},
   "source": [
    "## Problem 8\n",
    "\n",
    "#### Find the first and last dates for the farm prices data.\n"
   ]
  },
  {
   "cell_type": "code",
   "execution_count": 71,
   "metadata": {},
   "outputs": [
    {
     "data": {
      "text/html": [
       "<style>\n",
       ".list-inline {list-style: none; margin:0; padding: 0}\n",
       ".list-inline>li {display: inline-block}\n",
       ".list-inline>li:not(:last-child)::after {content: \"\\00b7\"; padding: 0 .5ex}\n",
       "</style>\n",
       "<ol class=list-inline><li><time datetime=\"1985-01-01\">1985-01-01</time></li><li><time datetime=\"1985-01-01\">1985-01-01</time></li><li><time datetime=\"1985-01-01\">1985-01-01</time></li><li><time datetime=\"1985-01-01\">1985-01-01</time></li><li><time datetime=\"1985-01-01\">1985-01-01</time></li><li><time datetime=\"1985-01-01\">1985-01-01</time></li></ol>\n"
      ],
      "text/latex": [
       "\\begin{enumerate*}\n",
       "\\item 1985-01-01\n",
       "\\item 1985-01-01\n",
       "\\item 1985-01-01\n",
       "\\item 1985-01-01\n",
       "\\item 1985-01-01\n",
       "\\item 1985-01-01\n",
       "\\end{enumerate*}\n"
      ],
      "text/markdown": [
       "1. 1985-01-01\n",
       "2. 1985-01-01\n",
       "3. 1985-01-01\n",
       "4. 1985-01-01\n",
       "5. 1985-01-01\n",
       "6. 1985-01-01\n",
       "\n",
       "\n"
      ],
      "text/plain": [
       "[1] \"1985-01-01\" \"1985-01-01\" \"1985-01-01\" \"1985-01-01\" \"1985-01-01\"\n",
       "[6] \"1985-01-01\""
      ]
     },
     "metadata": {},
     "output_type": "display_data"
    },
    {
     "data": {
      "text/html": [
       "<style>\n",
       ".list-inline {list-style: none; margin:0; padding: 0}\n",
       ".list-inline>li {display: inline-block}\n",
       ".list-inline>li:not(:last-child)::after {content: \"\\00b7\"; padding: 0 .5ex}\n",
       "</style>\n",
       "<ol class=list-inline><li><time datetime=\"2020-12-01\">2020-12-01</time></li><li><time datetime=\"2020-12-01\">2020-12-01</time></li><li><time datetime=\"2020-12-01\">2020-12-01</time></li><li><time datetime=\"2020-12-01\">2020-12-01</time></li><li><time datetime=\"2020-12-01\">2020-12-01</time></li><li><time datetime=\"2020-12-01\">2020-12-01</time></li></ol>\n"
      ],
      "text/latex": [
       "\\begin{enumerate*}\n",
       "\\item 2020-12-01\n",
       "\\item 2020-12-01\n",
       "\\item 2020-12-01\n",
       "\\item 2020-12-01\n",
       "\\item 2020-12-01\n",
       "\\item 2020-12-01\n",
       "\\end{enumerate*}\n"
      ],
      "text/markdown": [
       "1. 2020-12-01\n",
       "2. 2020-12-01\n",
       "3. 2020-12-01\n",
       "4. 2020-12-01\n",
       "5. 2020-12-01\n",
       "6. 2020-12-01\n",
       "\n",
       "\n"
      ],
      "text/plain": [
       "[1] \"2020-12-01\" \"2020-12-01\" \"2020-12-01\" \"2020-12-01\" \"2020-12-01\"\n",
       "[6] \"2020-12-01\""
      ]
     },
     "metadata": {},
     "output_type": "display_data"
    },
    {
     "name": "stdout",
     "output_type": "stream",
     "text": [
      "  FIRST_DATE  LAST_DATE\n",
      "1 1985-01-01 2020-12-01\n"
     ]
    }
   ],
   "source": [
    "# Write your query here\n",
    "\n",
    "### R CODE\n",
    "\n",
    "# Find the first and last 6 dates\n",
    "head(price_df$DATE)\n",
    "tail(price_df$DATE)\n",
    "\n",
    "### SQL CODE\n",
    "result <- dbGetQuery(conn, 'SELECT min(DATE) FIRST_DATE, max(DATE) LAST_DATE FROM FARM_PRICES')\n",
    "print(result)"
   ]
  },
  {
   "cell_type": "markdown",
   "metadata": {},
   "source": [
    "## Problem 9\n",
    "\n",
    "#### Which crops have ever reached a farm price greater than or equal to $350 per metric tonne?\n"
   ]
  },
  {
   "cell_type": "code",
   "execution_count": 73,
   "metadata": {},
   "outputs": [
    {
     "name": "stdout",
     "output_type": "stream",
     "text": [
      "Crops with prices >= $350 per metric tonne:\n",
      "factor(0)\n",
      "Levels: Barley Canola Rye Wheat\n",
      "  CROP_TYPE\n",
      "1    Canola\n"
     ]
    }
   ],
   "source": [
    "# Write your query here\n",
    "\n",
    "### R CODE\n",
    "\n",
    "# Filter the dataset for farm prices greater than or equal to $350\n",
    "crops_with_high_price <- unique(price_df$CROP_TYPE[price_df$PRICE_PERMT >= 350])\n",
    "\n",
    "# Print the result\n",
    "cat(\"Crops with prices >= $350 per metric tonne:\\n\")\n",
    "print(crops_with_high_price)\n",
    "\n",
    "### SQL CODE\n",
    "\n",
    "result <- dbGetQuery(conn, 'SELECT DISTINCT(CROP_TYPE)\n",
    "FROM FARM_PRICES\n",
    "WHERE PRICE_PRERMT >= 350')\n",
    "print(result)\n"
   ]
  },
  {
   "cell_type": "markdown",
   "metadata": {},
   "source": [
    "## Problem 10\n",
    "\n",
    "#### Rank the crop types harvested in Saskatchewan in the year 2000 by their average yield. Which crop performed best?\n"
   ]
  },
  {
   "cell_type": "code",
   "execution_count": 88,
   "metadata": {},
   "outputs": [
    {
     "name": "stdout",
     "output_type": "stream",
     "text": [
      "  CROP_TYPE       YEAR          GEO AVG_YIELD\n",
      "1    Barley 2000-12-31 Saskatchewan      2800\n",
      "2     Wheat 2000-12-31 Saskatchewan      2200\n",
      "3       Rye 2000-12-31 Saskatchewan      2100\n",
      "4    Canola 2000-12-31 Saskatchewan      1400\n",
      "Best performing crop in Saskatchewan in 2000: Barley with an average yield of 2800 kg/ha.\n"
     ]
    }
   ],
   "source": [
    "# Write your query here\n",
    "\n",
    "### SQL CODE\n",
    "\n",
    "result <- dbGetQuery(conn, \"\n",
    "    SELECT CROP_TYPE, YEAR, GEO, AVG_YIELD\n",
    "    FROM CROP_DATA\n",
    "    WHERE GEO = 'Saskatchewan' AND YEAR LIKE '2000%'\n",
    "    GROUP BY CROP_TYPE, YEAR, GEO\n",
    "    ORDER BY AVG_YIELD DESC\")\n",
    "\n",
    "print(result)\n",
    "\n",
    "### R CODE - Assuming 'result' is already loaded with the SQL query results\n",
    "best_crop <- result[1, ]\n",
    "cat(\"Best performing crop in Saskatchewan in 2000:\", best_crop$CROP_TYPE, \"with an average yield of\", best_crop$AVG_YIELD, \"kg/ha.\\n\")\n"
   ]
  },
  {
   "cell_type": "markdown",
   "metadata": {},
   "source": [
    "## Problem 11\n",
    "\n",
    "#### Rank the crops and geographies by their average yield (KG per hectare) since the year 2000. Which crop and province had the highest average yield since the year 2000?\n"
   ]
  },
  {
   "cell_type": "code",
   "execution_count": 90,
   "metadata": {},
   "outputs": [
    {
     "name": "stdout",
     "output_type": "stream",
     "text": [
      "   CROP_TYPE       YEAR     GEO AVG_YIELD\n",
      "1     Barley 2013-12-31 Alberta      4100\n",
      "2     Barley 2016-12-31 Alberta      4100\n",
      "3     Barley 2020-12-31 Alberta      3980\n",
      "4     Barley 2016-12-31  Canada      3900\n",
      "5     Barley 2017-12-31 Alberta      3900\n",
      "6      Wheat 2013-12-31 Alberta      3900\n",
      "7      Wheat 2016-12-31 Alberta      3900\n",
      "8     Barley 2019-12-31 Alberta      3890\n",
      "9     Barley 2020-12-31  Canada      3820\n",
      "10    Barley 2019-12-31  Canada      3810\n",
      "Best performing crop since 2000: Barley with an average yield of 4100 kg/ha.\n"
     ]
    }
   ],
   "source": [
    "# Write your query here\n",
    "\n",
    "### SQL CODE\n",
    "\n",
    "result <- dbGetQuery(conn, \"\n",
    "    SELECT CROP_TYPE, YEAR, GEO, AVG_YIELD\n",
    "    FROM CROP_DATA\n",
    "    WHERE YEAR >= '2000%'\n",
    "    GROUP BY CROP_TYPE, YEAR, GEO\n",
    "    ORDER BY AVG_YIELD DESC\n",
    "    LIMIT 10\")\n",
    "\n",
    "print(result)\n",
    "\n",
    "### R CODE - Assuming 'result' is already loaded with the SQL query results\n",
    "best_crop <- result[1, ]\n",
    "cat(\"Best performing crop since 2000:\", best_crop$CROP_TYPE, \"with an average yield of\", best_crop$AVG_YIELD, \"kg/ha.\\n\")\n"
   ]
  },
  {
   "cell_type": "markdown",
   "metadata": {},
   "source": [
    "## Problem 12\n",
    "\n",
    "#### Use a subquery to determine how much wheat was harvested in Canada in the most recent year of the data."
   ]
  },
  {
   "cell_type": "code",
   "execution_count": 101,
   "metadata": {},
   "outputs": [
    {
     "name": "stdout",
     "output_type": "stream",
     "text": [
      "        YEAR TOTAL_WHEAT_HARVESTED\n",
      "1 2020-12-31              62208200\n",
      "Total wheat harvested in 2020-12-31 : 62208200 units.\n"
     ]
    }
   ],
   "source": [
    "### SQL CODE\n",
    "\n",
    "result <- dbGetQuery(conn, \"\n",
    "    SELECT YEAR, SUM(PRODUCTION) AS TOTAL_WHEAT_HARVESTED\n",
    "    FROM CROP_DATA\n",
    "    WHERE CROP_TYPE = 'Wheat'\n",
    "    AND YEAR = (SELECT MAX(YEAR) FROM CROP_DATA WHERE CROP_TYPE = 'Wheat')\n",
    "    GROUP BY YEAR\n",
    "\")\n",
    "\n",
    "print(result)\n",
    "\n",
    "### R CODE - Assuming 'result' is already loaded with the SQL query results\n",
    "cat(\"Total wheat harvested in\", result$YEAR, \":\", result$TOTAL_WHEAT_HARVESTED, \"units.\\n\")\n"
   ]
  },
  {
   "cell_type": "code",
   "execution_count": 100,
   "metadata": {
    "tags": []
   },
   "outputs": [
    {
     "name": "stdout",
     "output_type": "stream",
     "text": [
      "         YEAR TOTAL_WHEAT_HARVESTED\n",
      "1  2013-12-31              67216400\n",
      "2  2020-12-31              62208200\n",
      "3  2019-12-31              58293800\n",
      "4  1991-12-31              58219500\n",
      "5  2018-12-31              57235100\n",
      "6  1986-12-31              56941800\n",
      "7  2016-12-31              56795100\n",
      "8  1990-12-31              56579000\n",
      "9  1996-12-31              54137500\n",
      "10 2017-12-31              53542800\n"
     ]
    }
   ],
   "source": [
    "### To make sure that was amount the highest in the most recent year? Let's make a rank list.\n",
    "\n",
    "result <- dbGetQuery(conn, \"\n",
    "    SELECT YEAR, SUM(PRODUCTION) AS TOTAL_WHEAT_HARVESTED\n",
    "    FROM CROP_DATA\n",
    "    WHERE CROP_TYPE = 'Wheat'\n",
    "    GROUP BY YEAR\n",
    "    ORDER BY TOTAL_WHEAT_HARVESTED DESC\n",
    "    LIMIT 10\n",
    "\")\n",
    "\n",
    "print(result)"
   ]
  },
  {
   "cell_type": "markdown",
   "metadata": {},
   "source": [
    "## Problem 13\n",
    "\n",
    "#### Use an implicit inner join to calculate the monthly price per metric tonne of Canola grown in Saskatchewan in both Canadian and US dollars. Display the most recent 6 months of the data.\n"
   ]
  },
  {
   "cell_type": "code",
   "execution_count": 106,
   "metadata": {},
   "outputs": [
    {
     "name": "stdout",
     "output_type": "stream",
     "text": [
      "        DATE CROP_TYPE          GEO FXUSDCAD PRICE_USD PRICE_CAD\n",
      "1 2020-12-01    Canola Saskatchewan 1.280771    507.33  649.7738\n",
      "2 2020-11-01    Canola Saskatchewan 1.306820    495.64  647.7123\n",
      "3 2020-10-01    Canola Saskatchewan 1.321471    474.80  627.4346\n",
      "4 2020-09-01    Canola Saskatchewan 1.322810    463.52  613.1487\n",
      "5 2020-08-01    Canola Saskatchewan 1.322205    464.60  614.2964\n",
      "6 2020-07-01    Canola Saskatchewan 1.349850    462.88  624.8186\n"
     ]
    }
   ],
   "source": [
    "# Write your query here\n",
    "\n",
    "### SQL CODE\n",
    "\n",
    "result <- dbGetQuery(conn, \"\n",
    "            SELECT f.DATE, p.CROP_TYPE, p.GEO, f.FXUSDCAD, p.PRICE_PRERMT AS PRICE_USD, p.PRICE_PRERMT * f.FXUSDCAD AS PRICE_CAD\n",
    "            FROM FARM_PRICES p\n",
    "            JOIN Monthly_FX f\n",
    "            ON strftime('%Y-%m', p.DATE) = strftime('%Y-%m', f.DATE)\n",
    "            WHERE p.CROP_TYPE = 'Canola' \n",
    "            AND p.GEO = 'Saskatchewan'\n",
    "            ORDER BY f.DATE DESC\n",
    "            LIMIT 6\")\n",
    "\n",
    "print(result)"
   ]
  },
  {
   "cell_type": "markdown",
   "metadata": {},
   "source": [
    "## Author(s)\n",
    "\n",
    "<h4> Jeff Grossman </h4>\n",
    "\n",
    "<h4> D.M. Naidu </h4>\n",
    "\n",
    "## Contributor(s)\n",
    "\n",
    "<h4> Rav Ahuja </h4>\n",
    "\n",
    "<h4> Lakshmi Holla </h4>\n",
    "\n",
    "![footer](https://cf-courses-data.s3.us.cloud-object-storage.appdomain.cloud/zOMU1iwlZgwJXjWYzQAIgg/SNIBMfooter.png \"footer\")\n",
    "\n",
    "\n",
    "<!--## Change log\n",
    "\n",
    "| Date       | Version | Changed by    | Change Description                        |\n",
    "| ---------- | ------- | ------------- | ----------------------------------------- |\n",
    "| 2022-03-03 | 1.0     | D.M. Naidu    | Converted intial version to RSQLite       |-->\n",
    "\n",
    "\n"
   ]
  }
 ],
 "metadata": {
  "kernelspec": {
   "display_name": "R",
   "language": "R",
   "name": "conda-env-r-r"
  },
  "language_info": {
   "codemirror_mode": "r",
   "file_extension": ".r",
   "mimetype": "text/x-r-source",
   "name": "R",
   "pygments_lexer": "r",
   "version": "3.5.1"
  },
  "prev_pub_hash": "9d3439f8b8d5aa66c5b3bbd8b091badd07975d5f69504f8ac952200dec6dfdee"
 },
 "nbformat": 4,
 "nbformat_minor": 4
}
